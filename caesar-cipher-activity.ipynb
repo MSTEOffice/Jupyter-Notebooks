{
 "cells": [
  {
   "cell_type": "markdown",
   "metadata": {},
   "source": [
    "# Caesar Cipher Activity\n",
    "\n",
    "The Caesar cipher is an encryption technique named after Julius Caesar. It is a **substitution cipher** that \"shifts\" letters in plain text up or down the alphabet by a certain number to create cipher text. For example, using a shift value of 1, the letter 'a' would become 'b', the letter 'b' would become 'c', and so on.\n",
    "\n",
    "Encrypting and decrypting Caesar cipher text by hand is easy, but time-consuming. The activity below will guide you through writing a Python program that can do all of the hard work for you. Before starting this activity, you should understand the basics of Python, including:\n",
    "- the character, integer, and string data types\n",
    "- how to access items in an array and determine an array's length\n",
    "- how to add integers\n",
    "- how to concatenate strings\n",
    "- how to use basic for loops"
   ]
  },
  {
   "cell_type": "markdown",
   "metadata": {},
   "source": [
    "## The basics: `ord()` and `chr()` functions\n",
    "\n",
    "The `ord()` function converts characters (letters) into integers (numbers). The same character (like the lowercase 'a') will always turn into the same integer (97). Run and modify the code below to learn more about how the `ord()` function works."
   ]
  },
  {
   "cell_type": "code",
   "execution_count": 41,
   "metadata": {},
   "outputs": [
    {
     "data": {
      "text/plain": [
       "97"
      ]
     },
     "execution_count": 41,
     "metadata": {},
     "output_type": "execute_result"
    }
   ],
   "source": [
    "# the ord() function converts characters (letters) into integers (numbers):\n",
    "ord('a')"
   ]
  },
  {
   "cell_type": "code",
   "execution_count": 42,
   "metadata": {},
   "outputs": [
    {
     "name": "stdout",
     "output_type": "stream",
     "text": [
      "97\n",
      "98\n",
      "99\n"
     ]
    }
   ],
   "source": [
    "# sequential characters turn into sequential integers:\n",
    "print(ord('a'))\n",
    "print(ord('b'))\n",
    "print(ord('c'))"
   ]
  },
  {
   "cell_type": "code",
   "execution_count": 43,
   "metadata": {},
   "outputs": [
    {
     "name": "stdout",
     "output_type": "stream",
     "text": [
      "97\n",
      "65\n"
     ]
    }
   ],
   "source": [
    "# uppercase and lowercase characters turn into different integers:\n",
    "print(ord('a'))\n",
    "print(ord('A'))"
   ]
  },
  {
   "cell_type": "markdown",
   "metadata": {},
   "source": [
    "The `chr()` function converts integers into characters. It uses the same rules as the `ord()` function, but in reverse. This means that if you use the `ord()` function to turn a character into an integer, then run that same integer through the `chr()` function, you'll get your original character back.\n",
    "\n",
    "Run and modify the code below to learn more about how the `chr()` function works."
   ]
  },
  {
   "cell_type": "code",
   "execution_count": 44,
   "metadata": {},
   "outputs": [
    {
     "name": "stdout",
     "output_type": "stream",
     "text": [
      "a\n",
      "A\n",
      "b\n"
     ]
    }
   ],
   "source": [
    "# the chr() function can turn integers back into characters:\n",
    "print(chr(97))\n",
    "print(chr(65))\n",
    "print(chr(98))"
   ]
  },
  {
   "cell_type": "code",
   "execution_count": 45,
   "metadata": {},
   "outputs": [
    {
     "name": "stdout",
     "output_type": "stream",
     "text": [
      "a\n",
      "A\n",
      "b\n"
     ]
    }
   ],
   "source": [
    "# it uses the same rules as the ord() function:\n",
    "print(chr(ord('a')))\n",
    "print(chr(ord('A')))\n",
    "print(chr(ord('b')))"
   ]
  },
  {
   "cell_type": "markdown",
   "metadata": {},
   "source": [
    "# Changing characters in a string\n",
    "\n",
    "If you want to use Python to encrypt and decrypt text, you have to know how to access the individual characters in a string. Run and modify the code below to learn how to manipulate strings in Python."
   ]
  },
  {
   "cell_type": "code",
   "execution_count": 46,
   "metadata": {},
   "outputs": [
    {
     "name": "stdout",
     "output_type": "stream",
     "text": [
      "a\n",
      "b\n",
      "c\n"
     ]
    }
   ],
   "source": [
    "# you can access individual characters from a string as if the string were an array:\n",
    "text = \"abc\"\n",
    "print(text[0])\n",
    "print(text[1])\n",
    "print(text[2])"
   ]
  },
  {
   "cell_type": "code",
   "execution_count": 47,
   "metadata": {},
   "outputs": [
    {
     "name": "stdout",
     "output_type": "stream",
     "text": [
      "97\n",
      "98\n",
      "99\n"
     ]
    }
   ],
   "source": [
    "# ... and turn those characters into integers:\n",
    "text = \"abc\"\n",
    "print(ord(text[0]))\n",
    "print(ord(text[1]))\n",
    "print(ord(text[2]))"
   ]
  },
  {
   "cell_type": "code",
   "execution_count": 48,
   "metadata": {},
   "outputs": [
    {
     "name": "stdout",
     "output_type": "stream",
     "text": [
      "a\n",
      "97\n",
      "98\n",
      "b\n"
     ]
    }
   ],
   "source": [
    "# by changing the integers, you can change the text:\n",
    "text = \"abc\"\n",
    "char = text[0]\n",
    "print(char)\n",
    "integer = ord(char)\n",
    "print(integer)\n",
    "integer += 1\n",
    "print(integer)\n",
    "print(chr(integer))"
   ]
  },
  {
   "cell_type": "markdown",
   "metadata": {},
   "source": [
    "## Putting it together: writing a Caesar cipher function\n",
    "\n",
    "Now that you understand the `ord()` and `chr()` functions and how to manipulate strings in python, you're ready to create a Caesar cipher program. Run and modify the code below to learn more."
   ]
  },
  {
   "cell_type": "code",
   "execution_count": 49,
   "metadata": {},
   "outputs": [
    {
     "name": "stdout",
     "output_type": "stream",
     "text": [
      "abc\n",
      "bcd\n"
     ]
    }
   ],
   "source": [
    "# with a loop, you can easily change an entire string:\n",
    "text = \"abc\"\n",
    "\n",
    "shiftedText = \"\";\n",
    "for i in range(len(text)):\n",
    "    char = text[i]\n",
    "    integer = ord(char)\n",
    "    integer += 1\n",
    "    \n",
    "    shiftedText += chr(integer)\n",
    "    \n",
    "print(text)\n",
    "print(shiftedText)"
   ]
  },
  {
   "cell_type": "code",
   "execution_count": 50,
   "metadata": {},
   "outputs": [
    {
     "name": "stdout",
     "output_type": "stream",
     "text": [
      "abc\n",
      "def\n"
     ]
    }
   ],
   "source": [
    "# you can shift by any amount you want:\n",
    "text = \"abc\"\n",
    "shift = 3\n",
    "\n",
    "shiftedText = \"\";\n",
    "for i in range(len(text)):\n",
    "    char = text[i]\n",
    "    integer = ord(char)\n",
    "    integer += shift\n",
    "    \n",
    "    shiftedText += chr(integer)\n",
    "    \n",
    "print(text)\n",
    "print(shiftedText)"
   ]
  },
  {
   "cell_type": "code",
   "execution_count": 51,
   "metadata": {},
   "outputs": [
    {
     "name": "stdout",
     "output_type": "stream",
     "text": [
      "xyz\n",
      "yz{\n"
     ]
    }
   ],
   "source": [
    "# ... but if you try to shift past the end of the alphabet, you may run into problems:\n",
    "text = \"xyz\"\n",
    "shift = 1\n",
    "\n",
    "shiftedText = \"\";\n",
    "for i in range(len(text)):\n",
    "    char = text[i]\n",
    "    integer = ord(char)\n",
    "    integer += shift\n",
    "    \n",
    "    shiftedText += chr(integer)\n",
    "    \n",
    "print(text)\n",
    "print(shiftedText)"
   ]
  },
  {
   "cell_type": "code",
   "execution_count": 52,
   "metadata": {},
   "outputs": [
    {
     "name": "stdout",
     "output_type": "stream",
     "text": [
      "xyz\n",
      "wxy\n"
     ]
    }
   ],
   "source": [
    "# you can shift by negative numbers:\n",
    "text = \"xyz\"\n",
    "shift = -1\n",
    "\n",
    "shiftedText = \"\";\n",
    "for i in range(len(text)):\n",
    "    char = text[i]\n",
    "    integer = ord(char)\n",
    "    integer += shift\n",
    "    \n",
    "    shiftedText += chr(integer)\n",
    "    \n",
    "print(text)\n",
    "print(shiftedText)"
   ]
  },
  {
   "cell_type": "code",
   "execution_count": 53,
   "metadata": {},
   "outputs": [
    {
     "name": "stdout",
     "output_type": "stream",
     "text": [
      "ABC\n",
      "@AB\n"
     ]
    }
   ],
   "source": [
    "# ... which will cause problems at the beginning of the alphabet:\n",
    "text = \"ABC\"\n",
    "shift = -1\n",
    "\n",
    "shiftedText = \"\";\n",
    "for i in range(len(text)):\n",
    "    char = text[i]\n",
    "    integer = ord(char)\n",
    "    integer += shift\n",
    "    \n",
    "    shiftedText += chr(integer)\n",
    "    \n",
    "print(text)\n",
    "print(shiftedText)"
   ]
  },
  {
   "cell_type": "code",
   "execution_count": 54,
   "metadata": {},
   "outputs": [
    {
     "name": "stdout",
     "output_type": "stream",
     "text": [
      "xyz\n",
      "yza\n"
     ]
    }
   ],
   "source": [
    "# to solve this problem, add or subtract 26 when a letter has shifted out of bounds, to force characters to \"wrap around\":\n",
    "text = \"xyz\"\n",
    "shift = 1\n",
    "\n",
    "shiftedText = \"\";\n",
    "for i in range(len(text)):\n",
    "    char = text[i]\n",
    "    integer = ord(char)\n",
    "    integer += shift\n",
    "    \n",
    "    if (integer > ord('z')):\n",
    "        integer -= 26;\n",
    "    elif (integer < ord('a')):\n",
    "        integer += 26;\n",
    "    \n",
    "    shiftedText += chr(integer)\n",
    "    \n",
    "print(text)\n",
    "print(shiftedText)"
   ]
  },
  {
   "cell_type": "code",
   "execution_count": 55,
   "metadata": {},
   "outputs": [
    {
     "name": "stdout",
     "output_type": "stream",
     "text": [
      "ABC abc\n",
      "ZBC zbc\n"
     ]
    }
   ],
   "source": [
    "# you have to do this separately for uppercase and lowercase letters, since they map to different integers:\n",
    "text = \"ABC abc\"\n",
    "shift = -1\n",
    "\n",
    "shiftedText = \"\";\n",
    "for i in range(len(text)):\n",
    "    char = text[i]\n",
    "    integer = ord(char)\n",
    "    integer += shift\n",
    "    \n",
    "    if (char.islower() and integer > ord('z')):\n",
    "        integer -= 26\n",
    "    elif (char.islower() and integer < ord('a')):\n",
    "        integer += 26\n",
    "    elif (char.isupper() and integer > ord('Z')):\n",
    "        integer -= 26\n",
    "    elif (char.isupper() and integer < ord('A')):\n",
    "        integer += 26\n",
    "        \n",
    "    # you may also want to handle characters that aren't letters at all:\n",
    "    else :\n",
    "        integer = ord(char)\n",
    "    \n",
    "    shiftedText += chr(integer)\n",
    "    \n",
    "print(text)\n",
    "print(shiftedText)"
   ]
  },
  {
   "cell_type": "code",
   "execution_count": 56,
   "metadata": {},
   "outputs": [
    {
     "name": "stdout",
     "output_type": "stream",
     "text": [
      "ABC abc\n",
      "NOP nop\n"
     ]
    }
   ],
   "source": [
    "# you can simplify things by using the modulo operator:\n",
    "text = \"ABC abc\"\n",
    "shift = -13\n",
    "\n",
    "shiftedText = \"\";\n",
    "for i in range(len(text)):\n",
    "    char = text[i]\n",
    "    integer = ord(char)\n",
    "    integer += shift\n",
    "    \n",
    "    if (char.islower()):\n",
    "        integer = (integer - ord('a')) % 26 + ord('a')\n",
    "    elif (char.isupper()):\n",
    "        integer = (integer - ord('A')) % 26 + ord('A')\n",
    "    else :\n",
    "        integer = ord(char)\n",
    "    \n",
    "    shiftedText += chr(integer)\n",
    "    \n",
    "print(text)\n",
    "print(shiftedText)"
   ]
  },
  {
   "cell_type": "code",
   "execution_count": 57,
   "metadata": {},
   "outputs": [
    {
     "name": "stdout",
     "output_type": "stream",
     "text": [
      "fghijkl\n"
     ]
    }
   ],
   "source": [
    "# ... and define a function to make encrypting text easy:\n",
    "def caesar_shift(text, shift):\n",
    "    shiftedText = \"\";\n",
    "    for i in range(len(text)):\n",
    "        char = text[i]\n",
    "        integer = ord(char)\n",
    "        integer += shift\n",
    "\n",
    "        if (char.islower()):\n",
    "            integer = (integer - ord('a')) % 26 + ord('a')\n",
    "        elif (char.isupper()):\n",
    "            integer = (integer - ord('A')) % 26 + ord('A')\n",
    "        else :\n",
    "            integer = ord(char)\n",
    "\n",
    "        shiftedText += chr(integer)\n",
    "        \n",
    "    return shiftedText\n",
    "\n",
    "print(caesar_shift(\"abcdefg\", 5))"
   ]
  },
  {
   "cell_type": "code",
   "execution_count": 58,
   "metadata": {},
   "outputs": [
    {
     "name": "stdout",
     "output_type": "stream",
     "text": [
      "Guvf vf n frperg zrffntr.\n",
      "This is a secret message.\n"
     ]
    }
   ],
   "source": [
    "# to decrypt a message, you have to shift by the negative of the shift used to encrypt it:\n",
    "encrypted = caesar_shift(\"This is a secret message.\", 13)\n",
    "print(encrypted)\n",
    "print(caesar_shift(encrypted, -13))"
   ]
  },
  {
   "cell_type": "markdown",
   "metadata": {},
   "source": [
    "## Using the cipher shift program\n",
    "\n",
    "Now that you have a function that can easily and quickly encode and decode Caesar cipher text, try using it to crack some Caesar cipher codes. Can youy decrypt the following secret messages? Each one uses a different shift value."
   ]
  },
  {
   "cell_type": "code",
   "execution_count": 59,
   "metadata": {},
   "outputs": [
    {
     "name": "stdout",
     "output_type": "stream",
     "text": [
      "Congratulations, you found the first secret!\n",
      "When Julius Caesar used this cipher, it was probably pretty secure.\n",
      "Most of his enemies couldn't read Latin, the language of Caesar's army.\n",
      "And those that could probably assumed the secret messages were written in another language.\n",
      "Even if they knew about the cipher, decoding by hand took a long time.\n",
      "A code breaker would have to try many different shifts before finding the right one.\n",
      "But computers can decode simple ciphers like this very quickly.\n",
      "Can you write a program that makes breaking this code even easier?\n"
     ]
    }
   ],
   "source": [
    "print(caesar_shift(\"Zlkdoxqrixqflkp, vlr clrka qeb cfopq pbzobq!\", 3))\n",
    "print(caesar_shift(\"Ozwf Bmdamk Uswksj mkwv lzak uahzwj, al osk hjgtstdq hjwllq kwumjw.\", 8))\n",
    "print(caesar_shift(\"Fhlm hy abl xgxfbxl vhnewg'm kxtw Etmbg, max etgzntzx hy Vtxltk'l tkfr.\", 7))\n",
    "print(caesar_shift(\"Fsi ymtxj ymfy htzqi uwtgfgqd fxxzrji ymj xjhwjy rjxxfljx bjwj bwnyyjs ns fstymjw qfslzflj.\", 21))\n",
    "print(caesar_shift(\"Ulud yv jxuo adum qrekj jxu syfxuh, tusetydw ro xqdt jeea q bedw jycu.\", 10))\n",
    "print(caesar_shift(\"W ykza xnawgan skqhz dwra pk pnu iwju zebbanajp odebpo xabkna bejzejc pda necdp kja.\", 4))\n",
    "print(caesar_shift(\"Kdc lxvydcnab ljw mnlxmn brvyun lryqnab urtn cqrb enah zdrltuh.\", 17))\n",
    "print(caesar_shift(\"Ayl wms upgrc y npmepyk rfyr kyicq zpcyigle rfgq ambc ctcl cyqgcp?\", 2))"
   ]
  },
  {
   "cell_type": "markdown",
   "metadata": {},
   "source": [
    "## Problems with the Caesar cipher\n",
    "The Caesar cipher was very useful for Julius Caesar, but is considered a very weak encryption system today. Since there are only 26 possible shift values (also known as a **key**), a computer can quickly try every possible value to decrypt a message. Modern encryption systems use keys that can be much larger than 26 - sometimes greater than 78 digits in size.\n",
    "\n",
    "Ciphers with **symmetric encryption keys** (where you use the same key to encrypt and decrypt the message, like the Caesar cipher) have another big problem: if you want to send a secret message to your friend, how can you secretly tell your friend what key to use to decrypt the message? If you send the secret key with the encrypted message, anyone who finds the message will be able to decrypt it.\n",
    "\n",
    "Modern cryptographers can solve this problem in one of two ways: using **asymmetric cryptography** or a **secret key exchange**. **Asymmetric cryptography** is a kind of cryptography where the key used to encrypt a message is different than the key used to decrypt a message. A **secret key exchange** is a way for two people to create a secret key that only they know, without ever sending the secret key to each other. Both of these methods allow cryptographers to send encrypted messages without sharing the keys used to decrypt them."
   ]
  }
 ],
 "metadata": {
  "kernelspec": {
   "display_name": "Python 3",
   "language": "python",
   "name": "python3"
  },
  "language_info": {
   "codemirror_mode": {
    "name": "ipython",
    "version": 3
   },
   "file_extension": ".py",
   "mimetype": "text/x-python",
   "name": "python",
   "nbconvert_exporter": "python",
   "pygments_lexer": "ipython3",
   "version": "3.7.3"
  }
 },
 "nbformat": 4,
 "nbformat_minor": 2
}
